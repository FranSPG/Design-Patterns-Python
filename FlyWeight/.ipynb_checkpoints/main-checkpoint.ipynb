{
 "cells": [
  {
   "cell_type": "code",
   "execution_count": 6,
   "metadata": {},
   "outputs": [],
   "source": [
    "from flyweight import SoldierFactory, Soldier, SoldierConcrete"
   ]
  },
  {
   "cell_type": "code",
   "execution_count": 70,
   "metadata": {},
   "outputs": [
    {
     "name": "stdout",
     "output_type": "stream",
     "text": [
      "SoldierConcrete doing...\n",
      "SoldierConcrete doing...\n",
      "soldiera\n",
      "soldierb\n"
     ]
    }
   ],
   "source": [
    "if __name__ == '__main__':\n",
    "    \n",
    "    soldier_factory = SoldierFactory()\n",
    "    concrete_soldier_a = soldier_factory.get_flyweight(\"soldiera\")\n",
    "    concrete_soldier_b = soldier_factory.get_flyweight(\"soldierb\")\n",
    "    \n",
    "    concrete_soldier_a is concrete_soldier_b\n",
    "    \n",
    "    concrete_soldier_a.attack()\n",
    "    concrete_soldier_b.attack()\n",
    "    \n",
    "    "
   ]
  },
  {
   "cell_type": "code",
   "execution_count": 99,
   "metadata": {},
   "outputs": [
    {
     "name": "stdout",
     "output_type": "stream",
     "text": [
      "soldiera\n",
      "atck 20\n",
      "attack <bound method SoldierConcrete.attack of <flyweight.SoldierConcrete object at 0x000001AE6E954EB8>>\n",
      "defen 5\n",
      "hp 100\n",
      "maxHP 100\n",
      "soldierb\n",
      "atck 20\n",
      "attack <bound method SoldierConcrete.attack of <flyweight.SoldierConcrete object at 0x000001AE6E954B70>>\n",
      "defen 5\n",
      "hp 100\n",
      "maxHP 100\n"
     ]
    }
   ],
   "source": [
    "    for x in soldier_factory._soldier:\n",
    "            print(x)\n",
    "            v = [i for i in dir(soldier_factory._soldier[x]) if not i.startswith('__')]\n",
    "            for y in v:\n",
    "                print(y , getattr(soldier_factory._soldier[x] ,y))"
   ]
  },
  {
   "cell_type": "code",
   "execution_count": 111,
   "metadata": {},
   "outputs": [
    {
     "data": {
      "text/plain": [
       "<method-wrapper '__str__' of int object at 0x0000000073C36CC0>"
      ]
     },
     "execution_count": 111,
     "metadata": {},
     "output_type": "execute_result"
    }
   ],
   "source": [
    "concrete_soldier_a.defen.__str__"
   ]
  },
  {
   "cell_type": "code",
   "execution_count": 112,
   "metadata": {},
   "outputs": [
    {
     "data": {
      "text/plain": [
       "<method-wrapper '__str__' of int object at 0x0000000073C36CC0>"
      ]
     },
     "execution_count": 112,
     "metadata": {},
     "output_type": "execute_result"
    }
   ],
   "source": [
    "concrete_soldier_b.defen.__str__"
   ]
  },
  {
   "cell_type": "code",
   "execution_count": 113,
   "metadata": {},
   "outputs": [
    {
     "data": {
      "text/plain": [
       "<method-wrapper '__str__' of int object at 0x0000000073C378A0>"
      ]
     },
     "execution_count": 113,
     "metadata": {},
     "output_type": "execute_result"
    }
   ],
   "source": [
    "concrete_soldier_a.hp.__str__"
   ]
  },
  {
   "cell_type": "code",
   "execution_count": 114,
   "metadata": {},
   "outputs": [
    {
     "data": {
      "text/plain": [
       "<method-wrapper '__str__' of int object at 0x0000000073C378A0>"
      ]
     },
     "execution_count": 114,
     "metadata": {},
     "output_type": "execute_result"
    }
   ],
   "source": [
    "concrete_soldier_b.hp.__str__"
   ]
  },
  {
   "cell_type": "code",
   "execution_count": null,
   "metadata": {},
   "outputs": [],
   "source": []
  }
 ],
 "metadata": {
  "kernelspec": {
   "display_name": "Python 3",
   "language": "python",
   "name": "python3"
  },
  "language_info": {
   "codemirror_mode": {
    "name": "ipython",
    "version": 3
   },
   "file_extension": ".py",
   "mimetype": "text/x-python",
   "name": "python",
   "nbconvert_exporter": "python",
   "pygments_lexer": "ipython3",
   "version": "3.6.5"
  }
 },
 "nbformat": 4,
 "nbformat_minor": 2
}
