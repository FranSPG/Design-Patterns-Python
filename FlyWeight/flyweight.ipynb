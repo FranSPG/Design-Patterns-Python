{
 "cells": [
  {
   "cell_type": "code",
   "execution_count": 2,
   "metadata": {},
   "outputs": [],
   "source": [
    "import abc"
   ]
  },
  {
   "cell_type": "code",
   "execution_count": 41,
   "metadata": {},
   "outputs": [],
   "source": [
    "class SoldierFactory:\n",
    "    \n",
    "    def __init__(self):\n",
    "        self._soldier = {}\n",
    "        \n",
    "    def get_flyweight(self, key):\n",
    "        try:\n",
    "            flyweight = self._soldier[key]\n",
    "        except KeyError:\n",
    "            flyweight = SoldierConcrete()\n",
    "            self._soldier[key] = flyweight\n",
    "        return flyweight    "
   ]
  },
  {
   "cell_type": "code",
   "execution_count": 42,
   "metadata": {},
   "outputs": [],
   "source": [
    "class Soldier():\n",
    "    \n",
    "    maxHP = 100\n",
    "    atck = 20\n",
    "    defen = 5\n",
    "    \n",
    "    @abc.abstractmethod\n",
    "    class attack():\n",
    "        pass"
   ]
  },
  {
   "cell_type": "code",
   "execution_count": 43,
   "metadata": {},
   "outputs": [],
   "source": [
    "class SoldierConcrete(Soldier):\n",
    "    \n",
    "    hp = Soldier.maxHP\n",
    "    \n",
    "    def attack(self):\n",
    "        print(\"SoldierConcrete doing...\")"
   ]
  },
  {
   "cell_type": "code",
   "execution_count": 44,
   "metadata": {},
   "outputs": [],
   "source": [
    "soldier_factory = SoldierFactory()"
   ]
  },
  {
   "cell_type": "code",
   "execution_count": 45,
   "metadata": {},
   "outputs": [],
   "source": [
    "concrete_soldier_a = soldier_factory.get_flyweight(\"soldiera\")"
   ]
  },
  {
   "cell_type": "code",
   "execution_count": 48,
   "metadata": {},
   "outputs": [],
   "source": [
    "concrete_soldier_b = soldier_factory.get_flyweight(\"soldierb\")"
   ]
  },
  {
   "cell_type": "code",
   "execution_count": 49,
   "metadata": {},
   "outputs": [
    {
     "data": {
      "text/plain": [
       "False"
      ]
     },
     "execution_count": 49,
     "metadata": {},
     "output_type": "execute_result"
    }
   ],
   "source": [
    "concrete_soldier_a is concrete_soldier_b"
   ]
  },
  {
   "cell_type": "code",
   "execution_count": 50,
   "metadata": {},
   "outputs": [
    {
     "name": "stdout",
     "output_type": "stream",
     "text": [
      "SoldierConcrete doing...\n"
     ]
    }
   ],
   "source": [
    "concrete_soldier_a.attack()"
   ]
  },
  {
   "cell_type": "code",
   "execution_count": null,
   "metadata": {},
   "outputs": [],
   "source": []
  }
 ],
 "metadata": {
  "kernelspec": {
   "display_name": "Python 3",
   "language": "python",
   "name": "python3"
  },
  "language_info": {
   "codemirror_mode": {
    "name": "ipython",
    "version": 3
   },
   "file_extension": ".py",
   "mimetype": "text/x-python",
   "name": "python",
   "nbconvert_exporter": "python",
   "pygments_lexer": "ipython3",
   "version": "3.6.5"
  }
 },
 "nbformat": 4,
 "nbformat_minor": 2
}
