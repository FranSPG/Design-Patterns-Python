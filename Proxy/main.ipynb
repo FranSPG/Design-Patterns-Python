{
 "cells": [
  {
   "cell_type": "code",
   "execution_count": 2,
   "metadata": {},
   "outputs": [],
   "source": [
    "from proxy import Proxy, RealObject, ProxyImpl\n",
    "import time"
   ]
  },
  {
   "cell_type": "code",
   "execution_count": 17,
   "metadata": {},
   "outputs": [
    {
     "name": "stdout",
     "output_type": "stream",
     "text": [
      "RealObject doing one...\n",
      "u cant do two ... yikes\n",
      "\n",
      "Disabled Proxy*\n",
      "\n",
      "RealObject doing one...\n",
      "RealObject doing two...\n",
      "RealObject doing three...\n"
     ]
    }
   ],
   "source": [
    "if __name__ == '__main__':\n",
    "    \n",
    "    proxyStatus = True\n",
    "    \n",
    "    if proxyStatus: \n",
    "        obj = ProxyImpl(RealObject())\n",
    "        obj.doone()\n",
    "        try:\n",
    "            obj.dotwo()\n",
    "        except:\n",
    "            print(\"u cant do two ... yikes\")\n",
    "    \n",
    "    print(\"\\nDisabled Proxy*\\n\")\n",
    "    \n",
    "    proxyStatus = False\n",
    "    \n",
    "    if not proxyStatus: \n",
    "        obj = RealObject()\n",
    "        obj.doone()\n",
    "        obj.dotwo()\n",
    "        obj.dothree()"
   ]
  }
 ],
 "metadata": {
  "kernelspec": {
   "display_name": "Python 3",
   "language": "python",
   "name": "python3"
  },
  "language_info": {
   "codemirror_mode": {
    "name": "ipython",
    "version": 3
   },
   "file_extension": ".py",
   "mimetype": "text/x-python",
   "name": "python",
   "nbconvert_exporter": "python",
   "pygments_lexer": "ipython3",
   "version": "3.6.5"
  }
 },
 "nbformat": 4,
 "nbformat_minor": 2
}
