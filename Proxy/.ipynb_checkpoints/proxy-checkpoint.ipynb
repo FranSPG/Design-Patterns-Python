{
 "cells": [
  {
   "cell_type": "code",
   "execution_count": 117,
   "metadata": {},
   "outputs": [],
   "source": [
    "import abc"
   ]
  },
  {
   "cell_type": "code",
   "execution_count": 118,
   "metadata": {},
   "outputs": [],
   "source": [
    "class Proxy(object):\n",
    "    \n",
    "    @abc.abstractmethod\n",
    "    def doone(self):\n",
    "        \"\"\"required\"\"\""
   ]
  },
  {
   "cell_type": "code",
   "execution_count": 119,
   "metadata": {},
   "outputs": [],
   "source": [
    "class ProxyImpl(Proxy):\n",
    "    \n",
    "    def __init__(self, realObject):\n",
    "        self._realObject = realObject\n",
    "    \n",
    "    def doone(self):\n",
    "        self._realObject.doone()"
   ]
  },
  {
   "cell_type": "code",
   "execution_count": 120,
   "metadata": {},
   "outputs": [],
   "source": [
    "class RealObject(Proxy):\n",
    "       \n",
    "    def doone(self):\n",
    "        print(\"RealObject doing one...\")\n",
    "        \n",
    "    def dotwo(self):\n",
    "        print(\"RealObject doing two...\")\n",
    "        \n",
    "    def dothree(self):\n",
    "        print(\"RealObject doing three...\")"
   ]
  },
  {
   "cell_type": "code",
   "execution_count": null,
   "metadata": {},
   "outputs": [],
   "source": []
  }
 ],
 "metadata": {
  "kernelspec": {
   "display_name": "Python 3",
   "language": "python",
   "name": "python3"
  },
  "language_info": {
   "codemirror_mode": {
    "name": "ipython",
    "version": 3
   },
   "file_extension": ".py",
   "mimetype": "text/x-python",
   "name": "python",
   "nbconvert_exporter": "python",
   "pygments_lexer": "ipython3",
   "version": "3.6.5"
  }
 },
 "nbformat": 4,
 "nbformat_minor": 2
}
