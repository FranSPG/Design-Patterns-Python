{
 "cells": [
  {
   "cell_type": "code",
   "execution_count": 1,
   "metadata": {},
   "outputs": [],
   "source": [
    "from composite import Component, Leaf, Composite"
   ]
  },
  {
   "cell_type": "code",
   "execution_count": 6,
   "metadata": {},
   "outputs": [
    {
     "name": "stdout",
     "output_type": "stream",
     "text": [
      "Adding leafs\n",
      "leaf1\n",
      "leaf2\n",
      "leaf3\n",
      "leaf4\n",
      "\n",
      "Removing some leafs\n",
      "leaf2\n",
      "leaf4\n"
     ]
    }
   ],
   "source": [
    "if __name__ == '__main__':\n",
    "\n",
    "    composite = Composite()\n",
    "    leaf1 = Leaf('leaf1')\n",
    "    leaf2 = Leaf('leaf2')\n",
    "    leaf3 = Leaf('leaf3')\n",
    "    leaf4 = Leaf('leaf4')\n",
    "    \n",
    "    print('Adding leafs')\n",
    "    \n",
    "    composite.add(leaf1)\n",
    "    composite.add(leaf2)\n",
    "    composite.add(leaf3)\n",
    "    composite.add(leaf4)\n",
    "    composite.do()\n",
    "\n",
    "\n",
    "    print('\\nRemoving some leafs')\n",
    "    composite.remove(leaf3)\n",
    "    composite.remove(leaf1)\n",
    "    composite.do()"
   ]
  },
  {
   "cell_type": "code",
   "execution_count": null,
   "metadata": {},
   "outputs": [],
   "source": []
  }
 ],
 "metadata": {
  "kernelspec": {
   "display_name": "Python 3",
   "language": "python",
   "name": "python3"
  },
  "language_info": {
   "codemirror_mode": {
    "name": "ipython",
    "version": 3
   },
   "file_extension": ".py",
   "mimetype": "text/x-python",
   "name": "python",
   "nbconvert_exporter": "python",
   "pygments_lexer": "ipython3",
   "version": "3.6.5"
  }
 },
 "nbformat": 4,
 "nbformat_minor": 2
}
