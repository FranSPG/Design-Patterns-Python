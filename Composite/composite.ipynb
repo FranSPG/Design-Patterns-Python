{
 "cells": [
  {
   "cell_type": "code",
   "execution_count": 83,
   "metadata": {},
   "outputs": [],
   "source": [
    "import abc\n",
    "class Component(object):\n",
    "    \n",
    "    @abc.abstractmethod\n",
    "    def do(self):\n",
    "        pass\n",
    "\n",
    "class Leaf(Component):\n",
    "    \n",
    "    def __init__(self, name):\n",
    "        self._name = name\n",
    "        Component.__init__(self)\n",
    "        \n",
    "    def do(self):\n",
    "        print(self._name)\n",
    "\n",
    "class Composite(Component):\n",
    "    \n",
    "    def __init__(self):\n",
    "        Component.__init__(self)\n",
    "        self.children = []\n",
    "\n",
    "    def add(self, child):\n",
    "        self.children.append(child)\n",
    "\n",
    "    def remove(self, child):\n",
    "        self.children.remove(child)\n",
    "        \n",
    "    def do(self):\n",
    "        for child in self.children:\n",
    "            child.do()"
   ]
  },
  {
   "cell_type": "code",
   "execution_count": null,
   "metadata": {},
   "outputs": [],
   "source": []
  }
 ],
 "metadata": {
  "kernelspec": {
   "display_name": "Python 3",
   "language": "python",
   "name": "python3"
  },
  "language_info": {
   "codemirror_mode": {
    "name": "ipython",
    "version": 3
   },
   "file_extension": ".py",
   "mimetype": "text/x-python",
   "name": "python",
   "nbconvert_exporter": "python",
   "pygments_lexer": "ipython3",
   "version": "3.6.5"
  }
 },
 "nbformat": 4,
 "nbformat_minor": 2
}
